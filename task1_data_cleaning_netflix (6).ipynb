{
 "cells": [
  {
   "cell_type": "code",
   "execution_count": null,
   "metadata": {},
   "outputs": [],
   "source": [
    "# STEP 1: Upload CSV (Google Colab only)\n",
    "from google.colab import files\n",
    "uploaded = files.upload()"
   ]
  },
  {
   "cell_type": "code",
   "execution_count": null,
   "metadata": {},
   "outputs": [],
   "source": [
    "import pandas as pd\n",
    "\n",
    "# Load dataset\n",
    "df = pd.read_csv('netflix_titles.csv')\n",
    "print(\"✅ Loaded dataset with shape:\", df.shape)\n",
    "\n",
    "# Check initial missing values\n",
    "print(\"\\n🔍 Missing values before cleaning:\")\n",
    "print(df.isnull().sum())\n",
    "\n",
    "# Drop duplicate rows\n",
    "df.drop_duplicates(inplace=True)\n",
    "print(\"\\n✅ Duplicates removed. New shape:\", df.shape)\n",
    "\n",
    "# Fill missing values\n",
    "df['director'].fillna('Unknown', inplace=True)\n",
    "df['cast'].fillna('Unknown', inplace=True)\n",
    "df['country'].fillna('Unknown', inplace=True)\n",
    "df['rating'].fillna('Unknown', inplace=True)\n",
    "df['date_added'].fillna('01-Jan-2000', inplace=True)\n",
    "\n",
    "# Convert date_added to datetime\n",
    "df['date_added'] = pd.to_datetime(df['date_added'], errors='coerce')\n",
    "\n",
    "# Standardize column names\n",
    "df.columns = df.columns.str.lower().str.replace(' ', '_')\n",
    "\n",
    "# Standardize text fields\n",
    "df['rating'] = df['rating'].astype(str).str.strip().str.upper()\n",
    "df['country'] = df['country'].astype(str).str.strip()\n",
    "\n",
    "# Convert to correct types\n",
    "df['release_year'] = df['release_year'].astype(int)\n",
    "\n",
    "# Display cleaned data sample\n",
    "print(\"\\n📊 Sample of cleaned data:\")\n",
    "print(df.head())\n",
    "\n",
    "# Save cleaned dataset\n",
    "df.to_csv('cleaned_netflix_titles.csv', index=False)\n",
    "print(\"\\n✅ Cleaned dataset saved as 'cleaned_netflix_titles.csv'\")"
   ]
  }
 ],
 "metadata": {
  "colab": {
   "name": "task1_data_cleaning_netflix.ipynb",
   "provenance": []
  },
  "kernelspec": {
   "display_name": "Python 3",
   "language": "python",
   "name": "python3"
  },
  "language_info": {
   "name": "python"
  }
 },
 "nbformat": 4,
 "nbformat_minor": 0
}